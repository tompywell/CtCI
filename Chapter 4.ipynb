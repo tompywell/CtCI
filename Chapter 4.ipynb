{
 "cells": [
  {
   "cell_type": "code",
   "execution_count": 66,
   "metadata": {},
   "outputs": [],
   "source": [
    "class Tree:\n",
    "    def __init__(self, data):\n",
    "        self.data = data\n",
    "        self.left = None\n",
    "        self.right = None\n",
    "        \n",
    "    def insert(self, data):\n",
    "        if self.data:\n",
    "            if data < self.data:\n",
    "                if self.left is None:\n",
    "                    self.left = Tree(data)\n",
    "                else:\n",
    "                    self.left.insert(data)\n",
    "            elif data > self.data:\n",
    "                if self.right is None:\n",
    "                    self.right = Tree(data)\n",
    "                else:\n",
    "                    self.right.insert(data)\n",
    "        else:\n",
    "            self.data = data\n",
    "            \n",
    "    def toList(self):\n",
    "        ret = []\n",
    "        if self is None:\n",
    "            return ret\n",
    "        else:\n",
    "            if self.left:\n",
    "                ret = ret + self.left.toList()\n",
    "            ret = ret + [self.data]\n",
    "            if self.right:\n",
    "                ret = ret + self.right.toList()\n",
    "            return ret"
   ]
  },
  {
   "cell_type": "code",
   "execution_count": 67,
   "metadata": {},
   "outputs": [
    {
     "name": "stdout",
     "output_type": "stream",
     "text": [
      "True\n",
      "True\n",
      "True\n"
     ]
    }
   ],
   "source": [
    "# 4.1\n",
    "# Implement a function to check if a tree is balanced\n",
    "# For the purposes of this question, a balanced tree is defined\n",
    "# to be a tree such that no two leaf nodes differ in distance from the root by more than one  \n",
    "\n",
    "def depth(tree):\n",
    "        if not tree:\n",
    "            return 0\n",
    "        elif tree.left is None:\n",
    "            if tree.right is None:\n",
    "                return 0\n",
    "            else:\n",
    "                return depth(tree.right) + 1\n",
    "        else:\n",
    "            if tree.right is None:\n",
    "                return depth(tree.left) + 1\n",
    "            else:\n",
    "                return max(depth(tree.left), depth(tree.right)) + 1\n",
    "\n",
    "def isBalanced(tree):\n",
    "    if tree is None:\n",
    "        return True\n",
    "    elif (tree.right is None and tree.left is None):\n",
    "        return True\n",
    "    elif (abs(depth(tree.left) - depth(tree.right)) <= 1) and isBalanced(tree.right) and isBalanced(tree.left):\n",
    "        return True\n",
    "    else:\n",
    "        return False\n",
    "\n",
    "tree = Tree(4)\n",
    "print(isBalanced(tree))\n",
    "tree.insert(2)\n",
    "print(isBalanced(tree))\n",
    "tree.insert(1)\n",
    "tree.insert(3)\n",
    "print(isBalanced(tree))"
   ]
  },
  {
   "cell_type": "code",
   "execution_count": 68,
   "metadata": {},
   "outputs": [
    {
     "name": "stdout",
     "output_type": "stream",
     "text": [
      "True\n",
      "False\n"
     ]
    }
   ],
   "source": [
    "# 4.2\n",
    "# Given a directed graph, design an algorithm to find out whether there is a route between two nodes\n",
    "\n",
    "def hasPath(graph, start, end, visited):\n",
    "    visited = visited + [start]\n",
    "    if start == end:\n",
    "        return True\n",
    "    elif len(graph[start]) == 0:\n",
    "        return False\n",
    "    else:\n",
    "        for n in graph[start]:\n",
    "            if n not in visited:\n",
    "                return hasPath(graph, n, end, visited)\n",
    "            else:\n",
    "                return False\n",
    "            \n",
    "graphA = {'A': ['B', 'C'],\n",
    "        'B': ['C', 'D'],\n",
    "        'C': ['D'],\n",
    "        'D': ['C'],\n",
    "        'E': ['F'],\n",
    "        'F': ['C']}\n",
    "            \n",
    "print(hasPath(graphA, 'A', 'B', []))\n",
    "\n",
    "graphB = {'A':['B'],\n",
    "         'B': ['A'],\n",
    "         'C':['D'],\n",
    "         'D':['C']}\n",
    "\n",
    "print(hasPath(graphB, 'A', 'D', []))"
   ]
  },
  {
   "cell_type": "code",
   "execution_count": 75,
   "metadata": {},
   "outputs": [
    {
     "name": "stdout",
     "output_type": "stream",
     "text": [
      "[1, 2, 3, 4, 5, 6, 7, 8]\n",
      "True\n",
      "3\n"
     ]
    }
   ],
   "source": [
    "# 4.3\n",
    "# Given a sorted (increasing order) array, write an algorithm to create a binary tree with minimal height \n",
    "\n",
    "def splitList(a_list):\n",
    "    half = len(a_list)//2\n",
    "    return a_list[:half], a_list[half:]\n",
    "\n",
    "def minimalHeightTree(l):\n",
    "    if len(l) == 0:\n",
    "        return None\n",
    "    elif len(l) == 1:\n",
    "        return Tree(l[0])\n",
    "    else:\n",
    "        a, b = splitList(l)\n",
    "        tree = Tree(b.pop(0))\n",
    "        tree.left = minimalHeightTree(a)\n",
    "        tree.right = minimalHeightTree(b)\n",
    "        return tree\n",
    "\n",
    "l = [1,2,3,4,5,6,7,8]\n",
    "t = minimalHeightTree(l)\n",
    "print(t.toList())\n",
    "print(isBalanced(t))\n",
    "print(depth(t))"
   ]
  },
  {
   "cell_type": "code",
   "execution_count": null,
   "metadata": {},
   "outputs": [],
   "source": []
  }
 ],
 "metadata": {
  "kernelspec": {
   "display_name": "Python 3",
   "language": "python",
   "name": "python3"
  },
  "language_info": {
   "codemirror_mode": {
    "name": "ipython",
    "version": 3
   },
   "file_extension": ".py",
   "mimetype": "text/x-python",
   "name": "python",
   "nbconvert_exporter": "python",
   "pygments_lexer": "ipython3",
   "version": "3.7.1"
  }
 },
 "nbformat": 4,
 "nbformat_minor": 2
}
