{
 "cells": [
  {
   "cell_type": "code",
   "execution_count": 7,
   "metadata": {},
   "outputs": [
    {
     "name": "stdout",
     "output_type": "stream",
     "text": [
      "True\n",
      "True\n",
      "True\n",
      "True\n"
     ]
    }
   ],
   "source": [
    "# 1.1\n",
    "# Implement an algorithm to determine if a string has all unique characters.\n",
    "# What if you can not use additional data structures?\n",
    " \n",
    "def unique(s):\n",
    "    bools = {}\n",
    "    for i in range(len(s)):\n",
    "        charAsInt = ord(s[i])\n",
    "        if charAsInt in bools:\n",
    "            return False\n",
    "        else:\n",
    "            bools[charAsInt] = True\n",
    "    return True\n",
    "\n",
    "print(unique(\"\") == True)\n",
    "print(unique(\"hello\") == False)\n",
    "print(unique(\"helo\") == True)\n",
    "print(unique(\"aa\") == False)"
   ]
  },
  {
   "cell_type": "code",
   "execution_count": 8,
   "metadata": {},
   "outputs": [
    {
     "name": "stdout",
     "output_type": "stream",
     "text": [
      "True\n",
      "True\n",
      "True\n"
     ]
    }
   ],
   "source": [
    "# 1.2\n",
    "# Write code to reverse a C-Style String.\n",
    "\n",
    "def reverse(s):\n",
    "    return s[::-1]\n",
    "\n",
    "print(reverse(\"hello\") == \"olleh\")\n",
    "print(reverse(\"\") == \"\")\n",
    "print(reverse(\"a\") == \"a\")"
   ]
  },
  {
   "cell_type": "code",
   "execution_count": 108,
   "metadata": {},
   "outputs": [
    {
     "name": "stdout",
     "output_type": "stream",
     "text": [
      "True\n",
      "True\n",
      "True\n",
      "True\n",
      "True\n"
     ]
    }
   ],
   "source": [
    "# 1.3\n",
    "# Design an algorithm and write code to remove the duplicate characters in a string (without using any additional buffer).\n",
    "\n",
    "def removeDup(s):\n",
    "    string = list(s)\n",
    "    result = []\n",
    "    for i in range(len(s)):\n",
    "        if s[i] not in result:\n",
    "            result.append(s[i])\n",
    "    return ''.join(result)\n",
    "\n",
    "print(removeDup(\"hello\") == \"helo\")\n",
    "print(removeDup(\"helo\") == \"helo\")\n",
    "print(removeDup(\"\") == \"\")\n",
    "print(removeDup(\"aaaabbbbcccc\") == \"abc\")\n",
    "print(removeDup(\"aaaa\") == \"a\")"
   ]
  },
  {
   "cell_type": "code",
   "execution_count": 13,
   "metadata": {},
   "outputs": [
    {
     "name": "stdout",
     "output_type": "stream",
     "text": [
      "True\n",
      "True\n",
      "True\n",
      "True\n",
      "True\n"
     ]
    }
   ],
   "source": [
    "# 1.4\n",
    "# Write a method to decide if two strings are anagrams or not \n",
    "\n",
    "def anagrams(s1, s2):\n",
    "    s1 = list(s1)\n",
    "    s1.sort()\n",
    "    s2 = list(s2)\n",
    "    s2.sort()\n",
    "    return s1 == s2\n",
    "\n",
    "print(anagrams(\"tom\", \"tom\") == True)\n",
    "print(anagrams(\"tom\", \"mot\") == True)\n",
    "print(anagrams(\"tom\", \"ted\") == False)\n",
    "print(anagrams(\"\", \"\") == True)\n",
    "print(anagrams(\"a\", \"bc\") == False)"
   ]
  },
  {
   "cell_type": "code",
   "execution_count": 21,
   "metadata": {},
   "outputs": [
    {
     "name": "stdout",
     "output_type": "stream",
     "text": [
      "True\n",
      "True\n",
      "True\n",
      "True\n"
     ]
    }
   ],
   "source": [
    "# 1.5\n",
    "# Write a method to replace all spaces in a string with ‘%20’\n",
    "\n",
    "def spaces(s):\n",
    "    s = s.replace(\" \", \"%20\")\n",
    "    return s\n",
    "\n",
    "print(spaces(\"hello world\") == \"hello%20world\")\n",
    "print(spaces(\" \") == \"%20\")\n",
    "print(spaces(\"  \") == \"%20%20\")\n",
    "print(spaces(\" a b c \") == \"%20a%20b%20c%20\")"
   ]
  },
  {
   "cell_type": "code",
   "execution_count": 122,
   "metadata": {},
   "outputs": [
    {
     "name": "stdout",
     "output_type": "stream",
     "text": [
      "True\n",
      "True\n"
     ]
    }
   ],
   "source": [
    "# 1.6\n",
    "# Given an image represented by an NxN matrix, where each pixel in the image is 4 bytes, write a method to rotate the image by 90 degrees.\n",
    "# Can you do this in place?\n",
    "\n",
    "def rotate(i):\n",
    "    rotated = zip(*i[::-1])\n",
    "    return list(rotated)\n",
    "\n",
    "a = [[1, 2, 3],\n",
    "     [4, 5, 6],\n",
    "     [7, 8, 9]]\n",
    "b = [(7, 4, 1),\n",
    "     (8, 5, 2),\n",
    "     (9, 6, 3)]\n",
    "print(rotate(a) == b)\n",
    "\n",
    "a = [[5]]\n",
    "b = [(5,)]\n",
    "print(rotate(a) == b)\n",
    "\n"
   ]
  },
  {
   "cell_type": "code",
   "execution_count": 22,
   "metadata": {},
   "outputs": [
    {
     "name": "stdout",
     "output_type": "stream",
     "text": [
      "True\n",
      "True\n",
      "True\n"
     ]
    }
   ],
   "source": [
    "# 1.7\n",
    "# Write an algorithm such that if an element in an MxN matrix is 0, its entire row and column is set to 0 \n",
    " \n",
    "def setZero(m):\n",
    "    copy = [row[:] for row in m]\n",
    "    rows, cols = (len(m), len(m[0]))\n",
    "    for i in range(rows): #for each row\n",
    "        for j in range(cols): # for each col\n",
    "            if (m[i][j] == 0): # if element is 0\n",
    "                copy[i] = [0] * cols #set entire row to 0\n",
    "                for x in range(rows): #for all rows\n",
    "                    copy[x][j] = 0 #set that column to zero\n",
    "    return copy\n",
    "\n",
    "a = [[5, 2],\n",
    "     [4, 5],\n",
    "     [7, 3]]\n",
    "b = [[5, 2],\n",
    "     [4, 5],\n",
    "     [7, 3]]\n",
    "print(setZero(a) == b)\n",
    "\n",
    "a = [[0, 2],\n",
    "     [4, 5],\n",
    "     [7, 3]]\n",
    "b = [[0, 0],\n",
    "     [0, 5],\n",
    "     [0, 3]]\n",
    "print(setZero(a) == b)\n",
    "\n",
    "a = [[5, 2],\n",
    "     [4, 5],\n",
    "     [7, 0]]\n",
    "b = [[5, 0],\n",
    "     [4, 0],\n",
    "     [0, 0]]\n",
    "print(setZero(a) == b)"
   ]
  },
  {
   "cell_type": "code",
   "execution_count": 23,
   "metadata": {},
   "outputs": [
    {
     "name": "stdout",
     "output_type": "stream",
     "text": [
      "True\n",
      "True\n",
      "True\n"
     ]
    }
   ],
   "source": [
    "# 1.8\n",
    "# Assume you have a method isSubstring which checks if one word is a substring of another.\n",
    "# Given two strings, s1 and s2, write code to check if s2 is a rotation of s1 using only one call to isSubstring.\n",
    "# (i e , “waterbottle” is a rotation of “erbottlewat”)\n",
    "\n",
    "def isRotation(s1, s2):\n",
    "    s3 = s1 + s1\n",
    "    return s2 in s3\n",
    "\n",
    "print(isRotation(\"hello world\", \"o worldhell\") == True)\n",
    "print(isRotation(\"hello world\", \"dlrow olleh\") == False)\n",
    "print(isRotation(\"\", \"\") == True)"
   ]
  },
  {
   "cell_type": "code",
   "execution_count": null,
   "metadata": {},
   "outputs": [],
   "source": []
  }
 ],
 "metadata": {
  "kernelspec": {
   "display_name": "Python 3",
   "language": "python",
   "name": "python3"
  },
  "language_info": {
   "codemirror_mode": {
    "name": "ipython",
    "version": 3
   },
   "file_extension": ".py",
   "mimetype": "text/x-python",
   "name": "python",
   "nbconvert_exporter": "python",
   "pygments_lexer": "ipython3",
   "version": "3.7.1"
  }
 },
 "nbformat": 4,
 "nbformat_minor": 2
}
