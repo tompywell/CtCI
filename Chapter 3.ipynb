{
 "cells": [
  {
   "cell_type": "code",
   "execution_count": 52,
   "metadata": {},
   "outputs": [],
   "source": [
    "class Stack:\n",
    "    def __init__(self):\n",
    "        self.items = []\n",
    "\n",
    "    def push(self, item):\n",
    "        self.items.append(item)\n",
    "\n",
    "    def pop(self):\n",
    "        return self.items.pop()"
   ]
  },
  {
   "cell_type": "code",
   "execution_count": 53,
   "metadata": {},
   "outputs": [],
   "source": [
    "class Queue:\n",
    "    def __init__(self):\n",
    "        self.items = []\n",
    "\n",
    "    def enqueue(self, item):\n",
    "        self.items.insert(0,item)\n",
    "\n",
    "    def dequeue(self):\n",
    "        return self.items.pop()"
   ]
  },
  {
   "cell_type": "code",
   "execution_count": 54,
   "metadata": {},
   "outputs": [
    {
     "name": "stdout",
     "output_type": "stream",
     "text": [
      "True\n",
      "True\n",
      "True\n",
      "True\n"
     ]
    }
   ],
   "source": [
    "# 3.1\n",
    "# Describe how you could use a single array to implement three stacks\n",
    "\n",
    "class TripleStack:\n",
    "    def __init__(self, sizeOfEach):\n",
    "        self.sizeOfEach = sizeOfEach;\n",
    "        self.items = [0] * (sizeOfEach * 3)\n",
    "        self.tops = [-1, sizeOfEach-1, (sizeOfEach*2)-1]\n",
    "        \n",
    "    def pop(self, stack):\n",
    "        if (self.tops[stack] < self.sizeOfEach * (stack)):\n",
    "            return None\n",
    "        else:\n",
    "            item = self.items[self.tops[stack]]\n",
    "            self.tops[stack] = self.tops[stack] - 1\n",
    "            return item\n",
    "        \n",
    "    def push(self, stack, item):\n",
    "        index = self.tops[stack] + 1\n",
    "        if (index > (self.sizeOfEach * (stack + 1)) - 1):\n",
    "            return\n",
    "        else:\n",
    "            self.items[index] = item\n",
    "            self.tops[stack] = self.tops[stack] + 1\n",
    "            return\n",
    "        \n",
    "ts = TripleStack(3)\n",
    "print(ts.pop(0) == None)\n",
    "print(ts.pop(1) == None)\n",
    "print(ts.pop(2) == None)\n",
    "\n",
    "for i in range(30):\n",
    "    ts.push(i // 10, i)\n",
    "    \n",
    "print(ts.items == [0, 1, 2, 10, 11, 12, 20, 21, 22])"
   ]
  },
  {
   "cell_type": "code",
   "execution_count": 55,
   "metadata": {},
   "outputs": [
    {
     "name": "stdout",
     "output_type": "stream",
     "text": [
      "None\n",
      "5\n",
      "4\n",
      "3\n",
      "2\n",
      "1\n",
      "2\n",
      "3\n",
      "4\n",
      "5\n",
      "None\n"
     ]
    }
   ],
   "source": [
    "# 3.2\n",
    "# How would you design a stack which, in addition to push and pop,\n",
    "# also has a function min which returns the minimum element?\n",
    "# Push, pop and min should all operate in O(1) time\n",
    "\n",
    "class MinStack:\n",
    "    def __init__(self):\n",
    "        self.items = []\n",
    "        self.mins = []\n",
    "\n",
    "    def push(self, item):\n",
    "        if len(self.items) == 0:\n",
    "            self.mins.append(item)\n",
    "            self.items.append(item)\n",
    "        else:\n",
    "            self.mins.append(min(item, self.items[len(self.items) - 1]))\n",
    "            self.items.append(item)\n",
    "\n",
    "    def pop(self):\n",
    "        if (len(self.items) == 0):\n",
    "            return None\n",
    "        else:\n",
    "            self.mins.pop()\n",
    "            return self.items.pop()\n",
    "    \n",
    "    def min(self):\n",
    "        if (len(self.items) == 0):\n",
    "            return None\n",
    "        else:\n",
    "            return self.mins[len(self.items) - 1]\n",
    "\n",
    "ms = MinStack()\n",
    "\n",
    "print(ms.min())\n",
    "ms.push(5)\n",
    "print(ms.min())\n",
    "ms.push(4)\n",
    "print(ms.min())\n",
    "ms.push(3)\n",
    "print(ms.min())\n",
    "ms.push(2)\n",
    "print(ms.min())\n",
    "ms.push(1)\n",
    "print(ms.min())\n",
    "ms.pop()\n",
    "print(ms.min())\n",
    "ms.pop()\n",
    "print(ms.min())\n",
    "ms.pop()\n",
    "print(ms.min())\n",
    "ms.pop()\n",
    "print(ms.min())\n",
    "ms.pop()\n",
    "print(ms.min())"
   ]
  },
  {
   "cell_type": "code",
   "execution_count": 56,
   "metadata": {},
   "outputs": [
    {
     "ename": "SyntaxError",
     "evalue": "invalid syntax (<ipython-input-56-1e47427bdde0>, line 12)",
     "output_type": "error",
     "traceback": [
      "\u001b[1;36m  File \u001b[1;32m\"<ipython-input-56-1e47427bdde0>\"\u001b[1;36m, line \u001b[1;32m12\u001b[0m\n\u001b[1;33m    def\u001b[0m\n\u001b[1;37m        ^\u001b[0m\n\u001b[1;31mSyntaxError\u001b[0m\u001b[1;31m:\u001b[0m invalid syntax\n"
     ]
    }
   ],
   "source": [
    "# 3.3\n",
    "# Imagine a (literal) stack of plates.\n",
    "# If the stack gets too high, it might topple.\n",
    "# Therefore, in real life, we would likely start a new stack when the previous stack exceeds some threshold.\n",
    "# Implement a data structure, SetOfStacks, that mimics this.\n",
    "# SetOfStacks should be composed of several stacks,\n",
    "# and should create a new stack once the previous one exceeds capacity.\n",
    "# SetOfStacks push() and SetOfStacks pop() should behave identically to a single stack,\n",
    "# (that is, pop() should return the same values as it would if there were just a single stack) \n",
    "\n",
    "class SetOfStacks:\n",
    "    def __init__(self):\n",
    "        self.stacks = [Stack()]\n",
    "        self.capacity = 3\n",
    "    \n",
    "    def push(self):\n",
    "        \n",
    "            \n",
    "    def pop(self):\n",
    "        "
   ]
  },
  {
   "cell_type": "code",
   "execution_count": null,
   "metadata": {},
   "outputs": [],
   "source": []
  }
 ],
 "metadata": {
  "kernelspec": {
   "display_name": "Python 3",
   "language": "python",
   "name": "python3"
  },
  "language_info": {
   "codemirror_mode": {
    "name": "ipython",
    "version": 3
   },
   "file_extension": ".py",
   "mimetype": "text/x-python",
   "name": "python",
   "nbconvert_exporter": "python",
   "pygments_lexer": "ipython3",
   "version": "3.7.1"
  }
 },
 "nbformat": 4,
 "nbformat_minor": 2
}
