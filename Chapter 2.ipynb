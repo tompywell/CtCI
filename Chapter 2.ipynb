{
 "cells": [
  {
   "cell_type": "code",
   "execution_count": 3,
   "metadata": {},
   "outputs": [],
   "source": [
    "class Node:\n",
    "    def __init__(self, data=None):\n",
    "        self.data = data\n",
    "        self.next = None\n",
    "    \n",
    "class LinkedList:\n",
    "    def __init__(self):\n",
    "        self.head = None\n",
    "    \n",
    "    def insert(self, data):\n",
    "        if (self.head == None):\n",
    "            self.head = Node(data)\n",
    "        else:\n",
    "            current = self.head\n",
    "            while(current.next != None):\n",
    "                current = current.next\n",
    "            current.next = Node(data)\n",
    "    \n",
    "    def insertMultiple(self, data):\n",
    "        for d in data:\n",
    "            self.insert(d)\n",
    "    \n",
    "    def toList(self):\n",
    "        current = self.head\n",
    "        result = []\n",
    "        while(current != None):\n",
    "            result = result + [current.data]\n",
    "            current = current.next\n",
    "        return result"
   ]
  },
  {
   "cell_type": "code",
   "execution_count": 4,
   "metadata": {},
   "outputs": [
    {
     "name": "stdout",
     "output_type": "stream",
     "text": [
      "True\n",
      "True\n",
      "True\n",
      "True\n"
     ]
    }
   ],
   "source": [
    "# 2.1\n",
    "# Write code to remove duplicates from an unsorted linked list \n",
    "\n",
    "def removeDuplicates(self):\n",
    "    current = self.head\n",
    "    if current == None:\n",
    "        return\n",
    "    else:\n",
    "        dict = {}\n",
    "        dict[current.data] = 1\n",
    "        while(current.next != None):\n",
    "            if current.next.data in dict:\n",
    "                current.next = current.next.next\n",
    "            else:\n",
    "                dict[current.next.data] = 1\n",
    "                current = current.next\n",
    "\n",
    "l = LinkedList()\n",
    "l.insertMultiple([1,2,3,4,5,4,3,2,3,4,5,4,3,2])\n",
    "removeDuplicates(l)\n",
    "print(l.toList() == [1,2,3,4,5])\n",
    "removeDuplicates(l)\n",
    "print(l.toList() == [1,2,3,4,5])\n",
    "\n",
    "l = LinkedList()\n",
    "removeDuplicates(l)\n",
    "print(l.toList() == [])\n",
    "\n",
    "l = LinkedList()\n",
    "l.insertMultiple([2,2])\n",
    "removeDuplicates(l)\n",
    "print(l.toList() == [2])"
   ]
  },
  {
   "cell_type": "code",
   "execution_count": 5,
   "metadata": {},
   "outputs": [
    {
     "name": "stdout",
     "output_type": "stream",
     "text": [
      "True\n",
      "True\n",
      "True\n",
      "True\n"
     ]
    }
   ],
   "source": [
    "# 2.2\n",
    "# Implement an algorithm to find the nth to last element of a SLL\n",
    "\n",
    "def nthToLast(self, n):\n",
    "    size = 0\n",
    "    current = self.head\n",
    "    if current == None:\n",
    "        return None\n",
    "    else:\n",
    "        while current.next != None:\n",
    "            size += 1\n",
    "            current = current.next\n",
    "        if n > size:\n",
    "            return None\n",
    "        else:\n",
    "            index = size - n\n",
    "            current = self.head\n",
    "            for i in range(index):\n",
    "                current = current.next\n",
    "        return current.data\n",
    "\n",
    "l = LinkedList()\n",
    "l.insertMultiple([1,2,3,4,5,6,7,8,9])\n",
    "print(nthToLast(l, 4) == 5)\n",
    "print(nthToLast(l, 0) == 9)\n",
    "print(nthToLast(l, 8) == 1)\n",
    "\n",
    "l = LinkedList()\n",
    "print(nthToLast(l, 4) == None)"
   ]
  },
  {
   "cell_type": "code",
   "execution_count": 6,
   "metadata": {},
   "outputs": [
    {
     "name": "stdout",
     "output_type": "stream",
     "text": [
      "True\n",
      "True\n",
      "True\n",
      "True\n",
      "True\n",
      "True\n",
      "True\n"
     ]
    }
   ],
   "source": [
    "# 2.3\n",
    "# Implement an algorithm to delete a node in the middle of a SLL\n",
    "# given only access to that node\n",
    "\n",
    "def delete(self, n):\n",
    "        current = self.head\n",
    "        if current != None:\n",
    "            if current.data == n:\n",
    "                self.head = current.next\n",
    "                return\n",
    "            else:\n",
    "                while current.next != None:\n",
    "                    if current.next.data == n:\n",
    "                        current.next = current.next.next\n",
    "                    else:\n",
    "                        current = current.next\n",
    "                return\n",
    "        else:\n",
    "            return\n",
    "\n",
    "l = LinkedList()\n",
    "l.insertMultiple([1,2,3,4,5])\n",
    "delete(l, 3)\n",
    "print(l.toList() == [1,2,4,5])\n",
    "\n",
    "delete(l, 6)\n",
    "print(l.toList() == [1,2,4,5])\n",
    "\n",
    "delete(l, 1)\n",
    "print(l.toList() == [2,4,5])\n",
    "\n",
    "delete(l, 5)\n",
    "print(l.toList() == [2,4])\n",
    "\n",
    "delete(l, 4)\n",
    "print(l.toList() == [2])\n",
    "\n",
    "delete(l, 2)\n",
    "print(l.toList() == [])\n",
    "\n",
    "delete(l, 1234)\n",
    "print(l.toList() == [])"
   ]
  },
  {
   "cell_type": "code",
   "execution_count": 7,
   "metadata": {},
   "outputs": [
    {
     "name": "stdout",
     "output_type": "stream",
     "text": [
      "True\n",
      "True\n",
      "True\n"
     ]
    }
   ],
   "source": [
    "#2.4 add 2 numbers whose digits are stored in reverse in SLLs\n",
    "def addLists(a, b):\n",
    "    aCurrent = a.head\n",
    "    bCurrent = b.head\n",
    "    carry = 0\n",
    "    c = LinkedList()\n",
    "    while aCurrent != None:\n",
    "        aDigit = aCurrent.data\n",
    "        bDigit = bCurrent.data\n",
    "        sum = aDigit + bDigit + carry\n",
    "        newDigit = sum % 10\n",
    "        carry = sum // 10\n",
    "        c.insert(newDigit)\n",
    "        aCurrent = aCurrent.next\n",
    "        bCurrent = bCurrent.next\n",
    "    if carry != 0:\n",
    "        c.insert(carry)\n",
    "    return c\n",
    "\n",
    "a = LinkedList()\n",
    "a.insertMultiple([3,1,5])\n",
    "b = LinkedList()\n",
    "b.insertMultiple([5,9,2])\n",
    "\n",
    "print(addLists(a, b).toList() == [8,0,8])\n",
    "\n",
    "a = LinkedList()\n",
    "a.insertMultiple([9,9,9])\n",
    "print(addLists(a, a).toList() == [8,9,9,1])\n",
    "\n",
    "a = LinkedList()\n",
    "b = LinkedList()\n",
    "b.insertMultiple([1,2,3,4,5])\n",
    "\n",
    "print(addLists(a, b).toList() == [])"
   ]
  },
  {
   "cell_type": "code",
   "execution_count": 8,
   "metadata": {},
   "outputs": [],
   "source": [
    "# 2.5\n",
    "# Given a circular linked list,\n",
    "# implement an algorithm which returns node at the beginning of the loop\n",
    "\n",
    "def findBeginning(self):\n",
    "    n1 = self.head\n",
    "    n2 = self.head\n",
    "    \n",
    "    while (n2.next != None):\n",
    "        n1 = n1.next;\n",
    "        n2 = n2.next.next;\n",
    "        if (n1 == n2):\n",
    "            break\n",
    "        \n",
    "    if (n2.next == None):\n",
    "        return None\n",
    "    \n",
    "    n1 = self.head\n",
    "    while (n1 != n2):\n",
    "        n1 = n1.next\n",
    "        n2 = n2.next\n",
    "        \n",
    "    return n2"
   ]
  },
  {
   "cell_type": "code",
   "execution_count": 9,
   "metadata": {},
   "outputs": [
    {
     "ename": "AttributeError",
     "evalue": "'NoneType' object has no attribute 'next'",
     "output_type": "error",
     "traceback": [
      "\u001b[1;31m---------------------------------------------------------------------------\u001b[0m",
      "\u001b[1;31mAttributeError\u001b[0m                            Traceback (most recent call last)",
      "\u001b[1;32m<ipython-input-9-6c3a51311a1c>\u001b[0m in \u001b[0;36m<module>\u001b[1;34m\u001b[0m\n\u001b[0;32m      1\u001b[0m \u001b[0ml\u001b[0m \u001b[1;33m=\u001b[0m \u001b[0mLinkedList\u001b[0m\u001b[1;33m(\u001b[0m\u001b[1;33m)\u001b[0m\u001b[1;33m;\u001b[0m\u001b[1;33m\u001b[0m\u001b[1;33m\u001b[0m\u001b[0m\n\u001b[0;32m      2\u001b[0m \u001b[0ml\u001b[0m\u001b[1;33m.\u001b[0m\u001b[0minsertMultiple\u001b[0m\u001b[1;33m(\u001b[0m\u001b[1;33m[\u001b[0m\u001b[1;36m1\u001b[0m\u001b[1;33m,\u001b[0m\u001b[1;36m2\u001b[0m\u001b[1;33m,\u001b[0m\u001b[1;36m3\u001b[0m\u001b[1;33m,\u001b[0m\u001b[1;36m4\u001b[0m\u001b[1;33m,\u001b[0m\u001b[1;36m5\u001b[0m\u001b[1;33m,\u001b[0m\u001b[1;36m3\u001b[0m\u001b[1;33m]\u001b[0m\u001b[1;33m)\u001b[0m\u001b[1;33m\u001b[0m\u001b[1;33m\u001b[0m\u001b[0m\n\u001b[1;32m----> 3\u001b[1;33m \u001b[0mfindBeginning\u001b[0m\u001b[1;33m(\u001b[0m\u001b[0ml\u001b[0m\u001b[1;33m)\u001b[0m\u001b[1;33m\u001b[0m\u001b[1;33m\u001b[0m\u001b[0m\n\u001b[0m",
      "\u001b[1;32m<ipython-input-8-45d386d9e97b>\u001b[0m in \u001b[0;36mfindBeginning\u001b[1;34m(self)\u001b[0m\n\u001b[0;32m      7\u001b[0m     \u001b[0mn2\u001b[0m \u001b[1;33m=\u001b[0m \u001b[0mself\u001b[0m\u001b[1;33m.\u001b[0m\u001b[0mhead\u001b[0m\u001b[1;33m\u001b[0m\u001b[1;33m\u001b[0m\u001b[0m\n\u001b[0;32m      8\u001b[0m \u001b[1;33m\u001b[0m\u001b[0m\n\u001b[1;32m----> 9\u001b[1;33m     \u001b[1;32mwhile\u001b[0m \u001b[1;33m(\u001b[0m\u001b[0mn2\u001b[0m\u001b[1;33m.\u001b[0m\u001b[0mnext\u001b[0m \u001b[1;33m!=\u001b[0m \u001b[1;32mNone\u001b[0m\u001b[1;33m)\u001b[0m\u001b[1;33m:\u001b[0m\u001b[1;33m\u001b[0m\u001b[1;33m\u001b[0m\u001b[0m\n\u001b[0m\u001b[0;32m     10\u001b[0m         \u001b[0mn1\u001b[0m \u001b[1;33m=\u001b[0m \u001b[0mn1\u001b[0m\u001b[1;33m.\u001b[0m\u001b[0mnext\u001b[0m\u001b[1;33m;\u001b[0m\u001b[1;33m\u001b[0m\u001b[1;33m\u001b[0m\u001b[0m\n\u001b[0;32m     11\u001b[0m         \u001b[0mn2\u001b[0m \u001b[1;33m=\u001b[0m \u001b[0mn2\u001b[0m\u001b[1;33m.\u001b[0m\u001b[0mnext\u001b[0m\u001b[1;33m.\u001b[0m\u001b[0mnext\u001b[0m\u001b[1;33m;\u001b[0m\u001b[1;33m\u001b[0m\u001b[1;33m\u001b[0m\u001b[0m\n",
      "\u001b[1;31mAttributeError\u001b[0m: 'NoneType' object has no attribute 'next'"
     ]
    }
   ],
   "source": [
    "l = LinkedList();\n",
    "l.insertMultiple([1,2,3,4,5,3])\n",
    "findBeginning(l)"
   ]
  },
  {
   "cell_type": "code",
   "execution_count": null,
   "metadata": {},
   "outputs": [],
   "source": []
  }
 ],
 "metadata": {
  "kernelspec": {
   "display_name": "Python 3",
   "language": "python",
   "name": "python3"
  },
  "language_info": {
   "codemirror_mode": {
    "name": "ipython",
    "version": 3
   },
   "file_extension": ".py",
   "mimetype": "text/x-python",
   "name": "python",
   "nbconvert_exporter": "python",
   "pygments_lexer": "ipython3",
   "version": "3.7.1"
  }
 },
 "nbformat": 4,
 "nbformat_minor": 2
}
