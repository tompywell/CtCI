{
 "cells": [
  {
   "cell_type": "code",
   "execution_count": 1,
   "metadata": {},
   "outputs": [],
   "source": [
    "class Tree:\n",
    "    def __init__(self, data):\n",
    "        self.data = data\n",
    "        self.left = None\n",
    "        self.right = None\n",
    "        \n",
    "    def insert(self, data):\n",
    "        if self.data:\n",
    "            if data < self.data:\n",
    "                if self.left is None:\n",
    "                    self.left = Tree(data)\n",
    "                else:\n",
    "                    self.left.insert(data)\n",
    "            elif data > self.data:\n",
    "                if self.right is None:\n",
    "                    self.right = Tree(data)\n",
    "                else:\n",
    "                    self.right.insert(data)\n",
    "        else:\n",
    "            self.data = data\n",
    "            \n",
    "    def toList(self):\n",
    "        ret = []\n",
    "        if self is None:\n",
    "            return ret\n",
    "        else:\n",
    "            if self.left:\n",
    "                ret = ret + self.left.toList()\n",
    "            ret = ret + [self.data]\n",
    "            if self.right:\n",
    "                ret = ret + self.right.toList()\n",
    "            return ret"
   ]
  },
  {
   "cell_type": "code",
   "execution_count": 2,
   "metadata": {},
   "outputs": [],
   "source": [
    "class Node:\n",
    "    def __init__(self, data=None):\n",
    "        self.data = data\n",
    "        self.next = None\n",
    "    \n",
    "class LinkedList:\n",
    "    def __init__(self):\n",
    "        self.head = None\n",
    "    \n",
    "    def insert(self, data):\n",
    "        if (self.head == None):\n",
    "            self.head = Node(data)\n",
    "        else:\n",
    "            current = self.head\n",
    "            while(current.next != None):\n",
    "                current = current.next\n",
    "            current.next = Node(data)\n",
    "    \n",
    "    def insertMultiple(self, data):\n",
    "        for d in data:\n",
    "            self.insert(d)\n",
    "    \n",
    "    def toList(self):\n",
    "        current = self.head\n",
    "        result = []\n",
    "        while(current != None):\n",
    "            result = result + [current.data]\n",
    "            current = current.next\n",
    "        return result"
   ]
  },
  {
   "cell_type": "code",
   "execution_count": 3,
   "metadata": {},
   "outputs": [
    {
     "name": "stdout",
     "output_type": "stream",
     "text": [
      "True\n",
      "True\n",
      "True\n"
     ]
    }
   ],
   "source": [
    "# 4.1\n",
    "# Implement a function to check if a tree is balanced\n",
    "# For the purposes of this question, a balanced tree is defined\n",
    "# to be a tree such that no two leaf nodes differ in distance from the root by more than one  \n",
    "\n",
    "def depth(tree):\n",
    "        if not tree:\n",
    "            return 0\n",
    "        elif tree.left is None:\n",
    "            if tree.right is None:\n",
    "                return 0\n",
    "            else:\n",
    "                return depth(tree.right) + 1\n",
    "        else:\n",
    "            if tree.right is None:\n",
    "                return depth(tree.left) + 1\n",
    "            else:\n",
    "                return max(depth(tree.left), depth(tree.right)) + 1\n",
    "\n",
    "def isBalanced(tree):\n",
    "    if tree is None:\n",
    "        return True\n",
    "    elif (tree.right is None and tree.left is None):\n",
    "        return True\n",
    "    elif (abs(depth(tree.left) - depth(tree.right)) <= 1) and isBalanced(tree.right) and isBalanced(tree.left):\n",
    "        return True\n",
    "    else:\n",
    "        return False\n",
    "\n",
    "tree = Tree(4)\n",
    "print(isBalanced(tree))\n",
    "tree.insert(2)\n",
    "print(isBalanced(tree))\n",
    "tree.insert(1)\n",
    "tree.insert(3)\n",
    "print(isBalanced(tree))"
   ]
  },
  {
   "cell_type": "code",
   "execution_count": 4,
   "metadata": {},
   "outputs": [
    {
     "name": "stdout",
     "output_type": "stream",
     "text": [
      "True\n",
      "False\n"
     ]
    }
   ],
   "source": [
    "# 4.2\n",
    "# Given a directed graph, design an algorithm to find out whether there is a route between two nodes\n",
    "\n",
    "def hasPath(graph, start, end, visited):\n",
    "    visited = visited + [start]\n",
    "    if start == end:\n",
    "        return True\n",
    "    elif len(graph[start]) == 0:\n",
    "        return False\n",
    "    else:\n",
    "        for n in graph[start]:\n",
    "            if n not in visited:\n",
    "                return hasPath(graph, n, end, visited)\n",
    "            else:\n",
    "                return False\n",
    "            \n",
    "graphA = {'A': ['B', 'C'],\n",
    "        'B': ['C', 'D'],\n",
    "        'C': ['D'],\n",
    "        'D': ['C'],\n",
    "        'E': ['F'],\n",
    "        'F': ['C']}\n",
    "            \n",
    "print(hasPath(graphA, 'A', 'B', []))\n",
    "\n",
    "graphB = {'A':['B'],\n",
    "         'B': ['A'],\n",
    "         'C':['D'],\n",
    "         'D':['C']}\n",
    "\n",
    "print(hasPath(graphB, 'A', 'D', []))"
   ]
  },
  {
   "cell_type": "code",
   "execution_count": 5,
   "metadata": {},
   "outputs": [
    {
     "name": "stdout",
     "output_type": "stream",
     "text": [
      "[1, 2, 3, 4, 5, 6, 7, 8]\n",
      "True\n",
      "3\n"
     ]
    }
   ],
   "source": [
    "# 4.3\n",
    "# Given a sorted (increasing order) array, write an algorithm to create a binary tree with minimal height \n",
    "\n",
    "def splitList(a_list):\n",
    "    half = len(a_list)//2\n",
    "    return a_list[:half], a_list[half:]\n",
    "\n",
    "def minimalHeightTree(l):\n",
    "    if len(l) == 0:\n",
    "        return None\n",
    "    elif len(l) == 1:\n",
    "        return Tree(l[0])\n",
    "    else:\n",
    "        a, b = splitList(l)\n",
    "        tree = Tree(b.pop(0))\n",
    "        tree.left = minimalHeightTree(a)\n",
    "        tree.right = minimalHeightTree(b)\n",
    "        return tree\n",
    "\n",
    "l = [1,2,3,4,5,6,7,8]\n",
    "t = minimalHeightTree(l)\n",
    "print(t.toList())\n",
    "print(isBalanced(t))\n",
    "print(depth(t))"
   ]
  },
  {
   "cell_type": "code",
   "execution_count": 6,
   "metadata": {},
   "outputs": [],
   "source": [
    "# 4.4\n",
    "# Given a binary search tree, design an algorithm which creates a linked list of all the nodes at each depth\n",
    "\n",
    "def treeToLists(tree):\n",
    "    if tree is None:\n",
    "        return []\n",
    "    d = depth(tree)\n",
    "    lists = []\n",
    "    for i in range(d+1):\n",
    "        lists.append(LinkedList())\n",
    "    lists[0].insert(tree.data)\n",
    "    if tree.left:\n",
    "        helper(tree.left, 1, lists)\n",
    "    if tree.right:\n",
    "        helper(tree.right, 1, lists)\n",
    "    return lists\n",
    "    \n",
    "def helper(tree, d, lists):\n",
    "    lists[d].insert(tree.data)\n",
    "    if tree.left:\n",
    "        helper(tree.left, d+1, lists)\n",
    "    if tree.right:\n",
    "        helper(tree.right, d+1, lists)"
   ]
  },
  {
   "cell_type": "code",
   "execution_count": 7,
   "metadata": {},
   "outputs": [
    {
     "name": "stdout",
     "output_type": "stream",
     "text": [
      "[4]\n",
      "[2, 6]\n",
      "[1, 3, 5, 7]\n"
     ]
    }
   ],
   "source": [
    "t = Tree(4)\n",
    "t.insert(2)\n",
    "t.insert(1)\n",
    "t.insert(3)\n",
    "t.insert(6)\n",
    "t.insert(5)\n",
    "t.insert(7)\n",
    "lists = treeToLists(t)\n",
    "for i in range(len(lists)):\n",
    "    print(lists[i].toList())"
   ]
  },
  {
   "cell_type": "code",
   "execution_count": 8,
   "metadata": {},
   "outputs": [],
   "source": [
    "# 4.5\n",
    "# Write an algorithm to find the ‘next’ node (i e , in-order successor) of a given node in a binary search tree\n",
    "# where each node has a link to its parent \n",
    "\n",
    "def succ(n, t):\n",
    "    parent = None\n",
    "    while(t.data != n):\n",
    "        if n < t.data:\n",
    "            p = t.data\n",
    "            t = t.left\n",
    "        else:\n",
    "            t = t.right\n",
    "    if t.right == None:\n",
    "        return p\n",
    "    else:\n",
    "        return leftmost(t.right)\n",
    "        \n",
    "def leftmost(t):\n",
    "    if t.left == None:\n",
    "        return t.data\n",
    "    else:\n",
    "        return leftmost(t.left)"
   ]
  },
  {
   "cell_type": "code",
   "execution_count": 9,
   "metadata": {},
   "outputs": [
    {
     "name": "stdout",
     "output_type": "stream",
     "text": [
      "20\n",
      "22\n",
      "12\n",
      "8\n"
     ]
    }
   ],
   "source": [
    "t = Tree(20)\n",
    "t.insert(8)\n",
    "t.insert(22)\n",
    "t.insert(4)\n",
    "t.insert(12)\n",
    "t.insert(10)\n",
    "t.insert(14)\n",
    "print(succ(14, t))\n",
    "print(succ(20, t))\n",
    "print(succ(10, t))\n",
    "print(succ(4, t))"
   ]
  },
  {
   "cell_type": "code",
   "execution_count": 15,
   "metadata": {},
   "outputs": [
    {
     "name": "stdout",
     "output_type": "stream",
     "text": [
      "20\n",
      "20\n",
      "12\n",
      "8\n"
     ]
    }
   ],
   "source": [
    "# Design an algorithm and write code to find the first common ancestor of two nodes in a binary tree\n",
    "# Avoid storing additional nodes in a data structure\n",
    "# NOTE: This is not necessarily a binary search tree\n",
    "\n",
    "def contains(a, t):\n",
    "    if t == None:\n",
    "        return False\n",
    "    else:\n",
    "        return t.data == a or contains(a, t.left) or contains(a, t.right)\n",
    "\n",
    "def ancestor(a, b, t):\n",
    "    if t == None:\n",
    "        return False\n",
    "    elif (contains(a, t.left) and contains(b, t.right)) or (contains(b, t.left) and contains(a, t.right)):\n",
    "        return t.data\n",
    "    elif (t.data == a or t.data == b):\n",
    "        return t.data\n",
    "    elif (contains(a, t.left) and contains(b, t.left)):\n",
    "        return ancestor(a, b, t.left)\n",
    "    elif (contains(a, t.right) and contains(b, t.right)):\n",
    "        return ancestor(a, b, t.right)\n",
    "    else:\n",
    "        return None\n",
    "\n",
    "t = Tree(20)\n",
    "t.insert(8)\n",
    "t.insert(22)\n",
    "t.insert(4)\n",
    "t.insert(12)\n",
    "t.insert(10)\n",
    "t.insert(14)\n",
    "\n",
    "print(ancestor(8, 22, t))\n",
    "print(ancestor(4, 22, t))\n",
    "print(ancestor(10, 14, t))\n",
    "print(ancestor(4, 12, t))"
   ]
  },
  {
   "cell_type": "code",
   "execution_count": 20,
   "metadata": {},
   "outputs": [],
   "source": [
    "# 4.7\n",
    "# You have two very large binary trees:\n",
    "# T1, with millions of nodes, and T2, with hundreds of nodes\n",
    "# Create an algorithm to decide if T2 is a subtree of T1 \n",
    "\n",
    "def isSubTree(t1, t2):\n",
    "    if (t2 == None):\n",
    "        return True\n",
    "    elif (t1 == None):\n",
    "        return False\n",
    "    elif (t1.data == t2.data):\n",
    "        return isSimilarTree(t1, t2)\n",
    "    else:\n",
    "        return isSubTree(t1.left, t2) or isSubTree(t1.right, t2)\n",
    "    \n",
    "def isSimilarTree(t1, t2):\n",
    "    if (t1 == None and t2 == None):\n",
    "        return True\n",
    "    elif (t1 == None or t2 == None):\n",
    "        return False\n",
    "    elif (t1.data != t2.data):\n",
    "        return False\n",
    "    else:\n",
    "        return isSimilarTree(t1.left, t2.left) and isSimilarTree(t1.right, t2.right)# 4.7"
   ]
  },
  {
   "cell_type": "code",
   "execution_count": 28,
   "metadata": {},
   "outputs": [
    {
     "name": "stdout",
     "output_type": "stream",
     "text": [
      "True\n"
     ]
    }
   ],
   "source": [
    "t = Tree(20)\n",
    "t.insert(8)\n",
    "t.insert(22)\n",
    "t.insert(4)\n",
    "t.insert(12)\n",
    "t.insert(10)\n",
    "t.insert(14)\n",
    "\n",
    "u = Tree(12)\n",
    "u.insert(14)\n",
    "u.insert(10)\n",
    "\n",
    "print(isSubTree(t, u))"
   ]
  },
  {
   "cell_type": "code",
   "execution_count": null,
   "metadata": {},
   "outputs": [],
   "source": [
    "# 4.8\n",
    "# You are given a binary tree in which each node contains a value\n",
    "# Design an algorithm to print all paths which sum up to that value\n",
    "# Note that it can be any path in the tree - it does not have to start at the root \n",
    "\n"
   ]
  }
 ],
 "metadata": {
  "kernelspec": {
   "display_name": "Python 3",
   "language": "python",
   "name": "python3"
  },
  "language_info": {
   "codemirror_mode": {
    "name": "ipython",
    "version": 3
   },
   "file_extension": ".py",
   "mimetype": "text/x-python",
   "name": "python",
   "nbconvert_exporter": "python",
   "pygments_lexer": "ipython3",
   "version": "3.7.1"
  }
 },
 "nbformat": 4,
 "nbformat_minor": 2
}
